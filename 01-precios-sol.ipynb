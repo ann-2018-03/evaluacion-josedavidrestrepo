{
 "cells": [
  {
   "cell_type": "markdown",
   "metadata": {
    "colab": {},
    "colab_type": "code",
    "id": "n3lnWjvI83ix"
   },
   "source": [
    "# Solution"
   ]
  },
  {
   "cell_type": "code",
   "execution_count": 1,
   "metadata": {},
   "outputs": [
    {
     "name": "stderr",
     "output_type": "stream",
     "text": [
      "C:\\Users\\CSANT\\Anaconda3\\lib\\site-packages\\h5py\\__init__.py:36: FutureWarning: Conversion of the second argument of issubdtype from `float` to `np.floating` is deprecated. In future, it will be treated as `np.float64 == np.dtype(float).type`.\n",
      "  from ._conv import register_converters as _register_converters\n"
     ]
    }
   ],
   "source": [
    "import sklearn\n",
    "import os\n",
    "import pandas as pd\n",
    "import math\n",
    "import matplotlib.pyplot as plt\n",
    "import numpy as np\n",
    "import tensorflow as tf\n",
    "\n",
    "tf.enable_eager_execution()"
   ]
  },
  {
   "cell_type": "markdown",
   "metadata": {},
   "source": [
    "# Data Cleaning"
   ]
  },
  {
   "cell_type": "code",
   "execution_count": 2,
   "metadata": {},
   "outputs": [],
   "source": [
    "\n",
    "def clean_data_test(data):\n",
    "    data.dropna(how=\"all\", inplace=True)\n",
    "    data = data.set_index(data.iloc[0::,0], drop=True, append=False, inplace=False, verify_integrity=False)\n",
    "    data.columns = data.iloc[0]\n",
    "    data = data.drop(\"Fecha\", axis=1)\n",
    "    if \"Fecha\" in data.index: data.drop(\"Fecha\", axis = 0, inplace=True)\n",
    "    data.columns.name = \"Prices\"\n",
    "    data.index.name = \"Dates\"\n",
    "    return data\n",
    "\n",
    "def clean_data(data):\n",
    "    data = pd.read_excel(data_path + files_xls[16], header=2, parse_col=\"A:Z\")\n",
    "    return data"
   ]
  },
  {
   "cell_type": "markdown",
   "metadata": {},
   "source": [
    "# Data Reading"
   ]
  },
  {
   "cell_type": "code",
   "execution_count": 5,
   "metadata": {},
   "outputs": [
    {
     "data": {
      "text/html": [
       "<div>\n",
       "<style scoped>\n",
       "    .dataframe tbody tr th:only-of-type {\n",
       "        vertical-align: middle;\n",
       "    }\n",
       "\n",
       "    .dataframe tbody tr th {\n",
       "        vertical-align: top;\n",
       "    }\n",
       "\n",
       "    .dataframe thead th {\n",
       "        text-align: right;\n",
       "    }\n",
       "</style>\n",
       "<table border=\"1\" class=\"dataframe\">\n",
       "  <thead>\n",
       "    <tr style=\"text-align: right;\">\n",
       "      <th></th>\n",
       "      <th>0</th>\n",
       "      <th>1</th>\n",
       "      <th>2</th>\n",
       "      <th>3</th>\n",
       "      <th>4</th>\n",
       "      <th>5</th>\n",
       "      <th>6</th>\n",
       "      <th>7</th>\n",
       "      <th>8</th>\n",
       "      <th>9</th>\n",
       "      <th>...</th>\n",
       "      <th>14</th>\n",
       "      <th>15</th>\n",
       "      <th>16</th>\n",
       "      <th>17</th>\n",
       "      <th>18</th>\n",
       "      <th>19</th>\n",
       "      <th>20</th>\n",
       "      <th>21</th>\n",
       "      <th>22</th>\n",
       "      <th>23</th>\n",
       "    </tr>\n",
       "  </thead>\n",
       "  <tbody>\n",
       "    <tr>\n",
       "      <th>1</th>\n",
       "      <td>1.073</td>\n",
       "      <td>1.000</td>\n",
       "      <td>1.000</td>\n",
       "      <td>1.00</td>\n",
       "      <td>1.00</td>\n",
       "      <td>1.000</td>\n",
       "      <td>5.000</td>\n",
       "      <td>6.000</td>\n",
       "      <td>6.000</td>\n",
       "      <td>6.000</td>\n",
       "      <td>...</td>\n",
       "      <td>5.000</td>\n",
       "      <td>1.000</td>\n",
       "      <td>1.000</td>\n",
       "      <td>5.000</td>\n",
       "      <td>12.000</td>\n",
       "      <td>16.670</td>\n",
       "      <td>11.929</td>\n",
       "      <td>5.000</td>\n",
       "      <td>1.000</td>\n",
       "      <td>1.000</td>\n",
       "    </tr>\n",
       "    <tr>\n",
       "      <th>2</th>\n",
       "      <td>1.073</td>\n",
       "      <td>1.073</td>\n",
       "      <td>1.000</td>\n",
       "      <td>1.00</td>\n",
       "      <td>1.00</td>\n",
       "      <td>1.073</td>\n",
       "      <td>1.303</td>\n",
       "      <td>1.303</td>\n",
       "      <td>1.303</td>\n",
       "      <td>1.303</td>\n",
       "      <td>...</td>\n",
       "      <td>1.073</td>\n",
       "      <td>1.000</td>\n",
       "      <td>1.000</td>\n",
       "      <td>1.000</td>\n",
       "      <td>1.303</td>\n",
       "      <td>2.500</td>\n",
       "      <td>2.500</td>\n",
       "      <td>1.303</td>\n",
       "      <td>1.073</td>\n",
       "      <td>1.073</td>\n",
       "    </tr>\n",
       "    <tr>\n",
       "      <th>3</th>\n",
       "      <td>1.073</td>\n",
       "      <td>1.000</td>\n",
       "      <td>1.000</td>\n",
       "      <td>1.00</td>\n",
       "      <td>1.00</td>\n",
       "      <td>1.000</td>\n",
       "      <td>0.100</td>\n",
       "      <td>1.000</td>\n",
       "      <td>1.000</td>\n",
       "      <td>1.000</td>\n",
       "      <td>...</td>\n",
       "      <td>1.000</td>\n",
       "      <td>0.100</td>\n",
       "      <td>0.100</td>\n",
       "      <td>1.000</td>\n",
       "      <td>1.238</td>\n",
       "      <td>1.238</td>\n",
       "      <td>1.238</td>\n",
       "      <td>1.238</td>\n",
       "      <td>1.073</td>\n",
       "      <td>1.000</td>\n",
       "    </tr>\n",
       "    <tr>\n",
       "      <th>4</th>\n",
       "      <td>1.000</td>\n",
       "      <td>1.000</td>\n",
       "      <td>0.990</td>\n",
       "      <td>1.00</td>\n",
       "      <td>1.00</td>\n",
       "      <td>1.073</td>\n",
       "      <td>3.000</td>\n",
       "      <td>3.000</td>\n",
       "      <td>3.000</td>\n",
       "      <td>3.500</td>\n",
       "      <td>...</td>\n",
       "      <td>1.073</td>\n",
       "      <td>1.073</td>\n",
       "      <td>3.000</td>\n",
       "      <td>2.000</td>\n",
       "      <td>18.630</td>\n",
       "      <td>22.500</td>\n",
       "      <td>9.256</td>\n",
       "      <td>3.000</td>\n",
       "      <td>1.073</td>\n",
       "      <td>1.000</td>\n",
       "    </tr>\n",
       "    <tr>\n",
       "      <th>5</th>\n",
       "      <td>0.990</td>\n",
       "      <td>0.990</td>\n",
       "      <td>0.989</td>\n",
       "      <td>0.99</td>\n",
       "      <td>0.99</td>\n",
       "      <td>1.073</td>\n",
       "      <td>1.263</td>\n",
       "      <td>1.263</td>\n",
       "      <td>1.263</td>\n",
       "      <td>1.263</td>\n",
       "      <td>...</td>\n",
       "      <td>1.073</td>\n",
       "      <td>1.073</td>\n",
       "      <td>1.073</td>\n",
       "      <td>1.073</td>\n",
       "      <td>1.263</td>\n",
       "      <td>1.500</td>\n",
       "      <td>1.263</td>\n",
       "      <td>1.263</td>\n",
       "      <td>1.073</td>\n",
       "      <td>0.990</td>\n",
       "    </tr>\n",
       "  </tbody>\n",
       "</table>\n",
       "<p>5 rows × 24 columns</p>\n",
       "</div>"
      ],
      "text/plain": [
       "       0      1      2     3     4      5      6      7      8      9  ...    \\\n",
       "1  1.073  1.000  1.000  1.00  1.00  1.000  5.000  6.000  6.000  6.000  ...     \n",
       "2  1.073  1.073  1.000  1.00  1.00  1.073  1.303  1.303  1.303  1.303  ...     \n",
       "3  1.073  1.000  1.000  1.00  1.00  1.000  0.100  1.000  1.000  1.000  ...     \n",
       "4  1.000  1.000  0.990  1.00  1.00  1.073  3.000  3.000  3.000  3.500  ...     \n",
       "5  0.990  0.990  0.989  0.99  0.99  1.073  1.263  1.263  1.263  1.263  ...     \n",
       "\n",
       "      14     15     16     17      18      19      20     21     22     23  \n",
       "1  5.000  1.000  1.000  5.000  12.000  16.670  11.929  5.000  1.000  1.000  \n",
       "2  1.073  1.000  1.000  1.000   1.303   2.500   2.500  1.303  1.073  1.073  \n",
       "3  1.000  0.100  0.100  1.000   1.238   1.238   1.238  1.238  1.073  1.000  \n",
       "4  1.073  1.073  3.000  2.000  18.630  22.500   9.256  3.000  1.073  1.000  \n",
       "5  1.073  1.073  1.073  1.073   1.263   1.500   1.263  1.263  1.073  0.990  \n",
       "\n",
       "[5 rows x 24 columns]"
      ]
     },
     "execution_count": 5,
     "metadata": {},
     "output_type": "execute_result"
    }
   ],
   "source": [
    "folder = \"datos/precios/\"\n",
    "\n",
    "files = os.listdir(folder)\n",
    "\n",
    "files_xls = [f for f in files if f[-3:] == 'xls' or f[-4:] == 'xlsx']\n",
    "\n",
    "data = pd.read_excel(folder + files_xls[0], header=2, usecols=\"A:Y\")\n",
    "\n",
    "iterfiles = iter(files_xls) \n",
    "next(iterfiles)\n",
    "\n",
    "for f in iterfiles:\n",
    "    data = data.append(pd.read_excel(folder + f, header=2, usecols=\"A:Y\"),  ignore_index=True)\n",
    "data = data.drop(\"Fecha\", axis=1)\n",
    "\n",
    "nans = sum(pd.isnull(data).sum().values)\n",
    "nans_per = 1 - (len(data.index) - nans) / len(data.index)\n",
    "\n",
    "data.dropna(how=\"any\", inplace=True)\n",
    "data.reset_index(drop=True)\n",
    "\n",
    "data.shape\n",
    "data.head()\n"
   ]
  },
  {
   "cell_type": "code",
   "execution_count": 6,
   "metadata": {},
   "outputs": [],
   "source": [
    "# Calculate mean\n",
    "mean_prices = data.sum(axis=1) / (len(data.columns))"
   ]
  },
  {
   "cell_type": "markdown",
   "metadata": {},
   "source": [
    "# Transformations\n",
    "\n",
    "- Log(x)\n",
    "- Exp(x)"
   ]
  },
  {
   "cell_type": "code",
   "execution_count": 9,
   "metadata": {
    "scrolled": true
   },
   "outputs": [
    {
     "data": {
      "text/plain": [
       "[<matplotlib.lines.Line2D at 0x16846271160>]"
      ]
     },
     "execution_count": 9,
     "metadata": {},
     "output_type": "execute_result"
    },
    {
     "data": {
      "image/png": "[encoded data removed]",
      "text/plain": [
       "<matplotlib.figure.Figure at 0x16846249780>"
      ]
     },
     "metadata": {},
     "output_type": "display_data"
    }
   ],
   "source": [
    "def exp_transf(s_data, inv_fx = None):\n",
    "    data_with_transform = s_data\n",
    "    if inv_fx != None:\n",
    "        data_with_transform = inv_fx(data_with_transform)\n",
    "    return data_with_transform\n",
    "\n",
    "def log_transf(data, fx = None):\n",
    "    \n",
    "    if fx != None:      \n",
    "        data_with_transform = fx(data.values)\n",
    "    return data_with_transform\n",
    "\n",
    "\n",
    "f = np.log\n",
    "inv_f = np.exp\n",
    "d = log_transf(mean_prices, f)\n",
    "ds = exp_transf(d,inv_f)"
   ]
  },
  {
   "cell_type": "code",
   "execution_count": 10,
   "metadata": {},
   "outputs": [],
   "source": [
    "import tensorflow as tf\n",
    "\n",
    "class Model(object):\n",
    "    \n",
    "    def __init__(self, L):\n",
    "        self.w = tf.contrib.eager.Variable([0.0] * (L+1))\n",
    "        self.errs = []\n",
    "    def __call__(self, x):\n",
    "        x = tf.constant(np.array([1.0] + x, dtype=np.float32))\n",
    "        y_pred = tf.reduce_sum(tf.multiply(self.w, x))\n",
    "        return y_pred\n",
    "                             \n",
    "    def fit(self, mu, x, y_desired):\n",
    "        y_pred = self(x)\n",
    "        e = y_desired - y_pred\n",
    "        self.errs.append(e)\n",
    "        x = tf.constant(np.array([1.0] + x, dtype=np.float32))\n",
    "        self.w.assign_add(tf.scalar_mul(2 * mu * e, x))\n",
    "        "
   ]
  },
  {
   "cell_type": "code",
   "execution_count": 11,
   "metadata": {},
   "outputs": [],
   "source": [
    "import pandas as pd\n",
    "import numpy as np\n",
    "import matplotlib.pyplot as plt\n",
    "\n",
    "class GradientDescent(object):\n",
    "   \n",
    "    def __init__(self, eta=0.01, n_iter=10):\n",
    "        self.eta = eta\n",
    "        self.n_iter = n_iter\n",
    "        \n",
    "    def fit_Gradient(self, X, y_desired):\n",
    "        self.w_ = np.zeros(2)\n",
    "        self.errors_ = []\n",
    "        \n",
    "        for i in range(self.n_iter):\n",
    "            errors = 0\n",
    "            for j in range(X.shape[0]):\n",
    "                self.w_[1:] += self.eta*X[j]*(y[j] - self.w_[0] - self.w_[1]*X[j])\n",
    "                self.w_[0] += self.eta*(y[j] - self.w_[0] - self.w_[1]*X[j])\n",
    "                errors += 0.5*(y[j] - self.w_[0] - self.w_[1]*X[j])**2\n",
    "            self.errors_.append(errors)\n",
    "        return self\n",
    "    \n",
    "    def predict(self, X):\n",
    "        return self.w_[0] + self.w_[1]*X"
   ]
  },
  {
   "cell_type": "code",
   "execution_count": 12,
   "metadata": {},
   "outputs": [
    {
     "name": "stdout",
     "output_type": "stream",
     "text": [
      "\n",
      "WARNING: The TensorFlow contrib module will not be included in TensorFlow 2.0.\n",
      "For more information, please see:\n",
      "  * https://github.com/tensorflow/community/blob/master/rfcs/20180907-contrib-sunset.md\n",
      "  * https://github.com/tensorflow/addons\n",
      "If you depend on functionality not listed there, please file an issue.\n",
      "\n",
      "SSE: tf.Tensor(2.7817962, shape=(), dtype=float32)\n",
      "MSE: tf.Tensor(0.000925534, shape=(), dtype=float32)\n",
      "RMSE:0.03042259\n"
     ]
    },
    {
     "data": {
      "image/png": "[encoded data removed]",
      "text/plain": [
       "<matplotlib.figure.Figure at 0x168485585f8>"
      ]
     },
     "metadata": {},
     "output_type": "display_data"
    }
   ],
   "source": [
    "from sklearn.model_selection import train_test_split\n",
    "from sklearn.linear_model import LinearRegression\n",
    "from sklearn import metrics \n",
    "\n",
    "L = 20\n",
    "\n",
    "model = Model(L)\n",
    "gda = GradientDescent(eta=0.1, n_iter=100)\n",
    "\n",
    "y_pred = np.empty(len(d))\n",
    "y_pred[:] = 0\n",
    "\n",
    "for t in range(L, len(d)):\n",
    "    x = d[t-L:t]\n",
    "    y_pred[t] = model(x)\n",
    "    model.fit(mu=0.05, x=x, y_desired=d[t])\n",
    "    \n",
    "    optimizer = tf.train.GradientDescentOptimizer(learning_rate=0.01)\n",
    "    \n",
    "\n",
    "SSE = sum(model.errs)\n",
    "MSE = sum(model.errs)**2 / len(model.errs)\n",
    "RMSE= np.sqrt(MSE)\n",
    "\n",
    "print(\"SSE: \" + str(SSE))\n",
    "print(\"MSE: \" + str(MSE))\n",
    "print(\"RMSE:\" + str(RMSE))\n",
    "\n",
    "plt.figure(figsize=(14,3))\n",
    "plt.plot(d, color='black');\n",
    "plt.plot(y_pred, color = 'red');\n"
   ]
  },
  {
   "cell_type": "markdown",
   "metadata": {},
   "source": [
    "# Forecast"
   ]
  },
  {
   "cell_type": "code",
   "execution_count": 13,
   "metadata": {},
   "outputs": [
    {
     "data": {
      "text/plain": [
       "<matplotlib.legend.Legend at 0x168499bcc18>"
      ]
     },
     "execution_count": 13,
     "metadata": {},
     "output_type": "execute_result"
    },
    {
     "data": {
      "image/png": "[encoded data removed]",
      "text/plain": [
       "<matplotlib.figure.Figure at 0x168462f5208>"
      ]
     },
     "metadata": {},
     "output_type": "display_data"
    }
   ],
   "source": [
    "nd = d[-1 * L:]\n",
    "\n",
    "n_of_pred = 7\n",
    "for i in range(n_of_pred):\n",
    "    nd.append(model(nd[-1 * L:]))\n",
    "    \n",
    "seven_pred = exp_transf(nd[-1*n_of_pred:], a, b, inv_f)\n",
    "plt.figure()\n",
    "plt.plot(seven_pred, marker='s',c='b',alpha=0.5,label='fit')\n",
    "plt.xlabel('Dias')\n",
    "plt.ylabel('Precio')\n",
    "plt.legend()"
   ]
  },
  {
   "cell_type": "code",
   "execution_count": 29,
   "metadata": {},
   "outputs": [
    {
     "data": {
      "image/png": "[encoded data removed]",
      "text/plain": [
       "<matplotlib.figure.Figure at 0x16849ac8b38>"
      ]
     },
     "metadata": {},
     "output_type": "display_data"
    }
   ],
   "source": [
    "mu = 0.01\n",
    "\n",
    "L = 11\n",
    "\n",
    "w = np.array(0.1 * np.random.standard_normal(L+1)).reshape(L+1, 1)\n",
    "\n",
    "y_pred = np.zeros(len(d))\n",
    "y_pred[0:L] = np.nan\n",
    "for t in range(L, len(d)):\n",
    "    x = np.array([1] + d[t-L:t])\n",
    "    x = x.reshape(len(x), 1)\n",
    "    p = w.T @ x                  \n",
    "    y_pred[t] = p\n",
    "    \n",
    "    e = d[t] - p\n",
    "    w = w + 2 * mu * e * x\n",
    "\n",
    "plt.figure(figsize=(14,3))\n",
    "plt.plot(d, color='black');\n",
    "plt.plot(y_pred, color = 'red');"
   ]
  }
 ],
 "metadata": {
  "colab": {
   "include_colab_link": true,
   "name": "Copia de Untitled3.ipynb",
   "provenance": [],
   "version": "0.3.2"
  },
  "kernelspec": {
   "display_name": "Python 3",
   "language": "python",
   "name": "python3"
  },
  "language_info": {
   "codemirror_mode": {
    "name": "ipython",
    "version": 3
   },
   "file_extension": ".py",
   "mimetype": "text/x-python",
   "name": "python",
   "nbconvert_exporter": "python",
   "pygments_lexer": "ipython3",
   "version": "3.6.5"
  }
 },
 "nbformat": 4,
 "nbformat_minor": 2
}
