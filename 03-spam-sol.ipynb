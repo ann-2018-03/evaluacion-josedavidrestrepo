{
 "cells": [
  {
   "cell_type": "markdown",
   "metadata": {
    "colab": {},
    "colab_type": "code",
    "id": "n3lnWjvI83ix"
   },
   "source": [
    "# Solution"
   ]
  },
  {
   "cell_type": "code",
   "execution_count": 2,
   "metadata": {},
   "outputs": [
    {
     "name": "stdout",
     "output_type": "stream",
     "text": [
      "[nltk_data] Downloading package stopwords to\n",
      "[nltk_data]     C:\\Users\\CSANT\\AppData\\Roaming\\nltk_data...\n",
      "[nltk_data]   Package stopwords is already up-to-date!\n",
      "[nltk_data] Downloading package punkt to\n",
      "[nltk_data]     C:\\Users\\CSANT\\AppData\\Roaming\\nltk_data...\n",
      "[nltk_data]   Package punkt is already up-to-date!\n",
      "[nltk_data] Downloading package words to\n",
      "[nltk_data]     C:\\Users\\CSANT\\AppData\\Roaming\\nltk_data...\n",
      "[nltk_data]   Package words is already up-to-date!\n"
     ]
    },
    {
     "data": {
      "text/plain": [
       "True"
      ]
     },
     "execution_count": 2,
     "metadata": {},
     "output_type": "execute_result"
    }
   ],
   "source": [
    "import pandas as pd\n",
    "import glob\n",
    "import email\n",
    "import re\n",
    "import nltk\n",
    "import sklearn\n",
    "\n",
    "nltk.download('stopwords')\n",
    "nltk.download('punkt')\n",
    "nltk.download('words')"
   ]
  },
  {
   "cell_type": "markdown",
   "metadata": {},
   "source": [
    "# Regular Expressions"
   ]
  },
  {
   "cell_type": "code",
   "execution_count": 3,
   "metadata": {},
   "outputs": [],
   "source": [
    "def _remove_html_tags(text):\n",
    "    return re.sub(\"<[^>]*>\", \"\", text)\n",
    "\n",
    "def _remove_websites(text):\n",
    "    \n",
    "    regex = r'\\b((?:[a-z][\\w-]+:(?:\\/{1,3}|[a-z0-9%])|www\\d{0,3}[.]|[a-z0-9.\\-]+[.][a-z]{2,4}\\/)(?:[^\\s()<>]+|\\(([^\\s()<>]+|(\\([^\\s()<>]+\\)))*\\))+(?:\\(([^\\s()<>]+|(\\([^\\s()<>]+\\)))*\\)|[^\\s`!()\\[\\]{};:\\'\\\".,<>?«»“”‘’]))'\n",
    "    return re.sub(regex, \"\", text)\n",
    "\n",
    "def _remove_emails(text):\n",
    "    return re.sub(\"[a-zA-Z0-9-_.]+@[a-zA-Z0-9-_.].+\", \"\", text)\n",
    "\n",
    "def _lowercase_all(text):\n",
    "    return text.lower()\n",
    "\n",
    "def _remove_special_characters(text):\n",
    "    return re.sub(\"[^A-Za-z0-9]+\", \" \", text)\n",
    "\n",
    "def _remove_numbers(text):\n",
    "    return re.sub(\"[0-9]+\", \"\", text)\n",
    "\n",
    "def _remove_single_letters(text):\n",
    "    words_list = text.split()\n",
    "    clean_text_words = []\n",
    "    for word in words_list:\n",
    "        if len(word) > 1:\n",
    "            clean_text_words.append(word)\n",
    "    return \" \".join(clean_text_words)\n",
    "\n",
    "def _lemmatization_of_words(text):    \n",
    "    from nltk.stem.porter import PorterStemmer\n",
    "    clean_text_words = []\n",
    "    porter = PorterStemmer()\n",
    "    sentence_words = nltk.word_tokenize(text)\n",
    "    \n",
    "    for word in sentence_words:\n",
    "        clean_text_words.append(porter.stem(word))\n",
    "    \n",
    "    return \" \".join(clean_text_words)\n",
    "\n",
    "def _remove_stop_words(text):\n",
    "    from nltk.corpus import stopwords\n",
    "    \n",
    "    stop_words = set(stopwords.words('english'))\n",
    "    words = nltk.word_tokenize(text)\n",
    "    words_filtered = []\n",
    "\n",
    "    for word in words:\n",
    "        if word not in stop_words:\n",
    "            words_filtered.append(word)\n",
    "    \n",
    "    return \" \".join(words_filtered)\n",
    "\n",
    "def _remove_nonsense_words(text):\n",
    "    from nltk.corpus import words\n",
    "    words = set(words.words())\n",
    "    \n",
    "    return \" \".join(w for w in nltk.wordpunct_tokenize(text) if w in words)"
   ]
  },
  {
   "cell_type": "code",
   "execution_count": 4,
   "metadata": {},
   "outputs": [],
   "source": [
    "def _clean_body_message(body):\n",
    "    message_without_html_tags = _remove_html_tags(body)\n",
    "\n",
    "    message_without_websites = _remove_websites(message_without_html_tags)\n",
    "\n",
    "    message_without_emails = _remove_emails(message_without_websites)\n",
    "\n",
    "    message_lowercase = _lowercase_all(message_without_emails)\n",
    "\n",
    "    message_without_numbers = _remove_numbers(message_lowercase)\n",
    "\n",
    "    message_without_special_characters = _remove_special_characters(message_without_numbers)\n",
    "    \n",
    "    message_without_single_letters = _remove_single_letters(message_without_special_characters)\n",
    "    \n",
    "    message_without_stop_words = _remove_stop_words(message_without_single_letters)\n",
    "    \n",
    "    message_with_correct_words = _remove_nonsense_words(message_without_stop_words)\n",
    "    \n",
    "    clean_message = _lemmatization_of_words(message_with_correct_words)\n",
    "    \n",
    "    return clean_message"
   ]
  },
  {
   "cell_type": "code",
   "execution_count": 5,
   "metadata": {},
   "outputs": [],
   "source": [
    "def _get_body_message(all_message):\n",
    "    b = email.message_from_string(all_message)\n",
    "    body = \"\"\n",
    "\n",
    "    if b.is_multipart():\n",
    "        for part in b.walk():\n",
    "            ctype = part.get_content_type()\n",
    "            cdispo = str(part.get('Content-Disposition'))\n",
    "\n",
    "            # skip any text/plain (txt) attachments\n",
    "            if ctype == 'text/plain' and 'attachment' not in cdispo:\n",
    "                body = part.get_payload()  # decode\n",
    "                break\n",
    "    else:\n",
    "        body = b.get_payload()\n",
    "    \n",
    "    return _clean_body_message(body)"
   ]
  },
  {
   "cell_type": "markdown",
   "metadata": {},
   "source": [
    "# Data Processing"
   ]
  },
  {
   "cell_type": "code",
   "execution_count": 6,
   "metadata": {},
   "outputs": [],
   "source": [
    "def preprocess_files(files):\n",
    "    mail_body_messages = []\n",
    "    for filename in files:\n",
    "        with open(filename, 'rt', encoding = \"ISO-8859-1\") as f:\n",
    "            body_message = _get_body_message(f.read())\n",
    "            if len(body_message) > 0: # Eliminacion de mensajes que quedaron vacios despues de preprocesamiento\n",
    "                mail_body_messages.append(body_message)\n",
    "    return mail_body_messages"
   ]
  },
  {
   "cell_type": "code",
   "execution_count": 7,
   "metadata": {},
   "outputs": [],
   "source": [
    "first_easy_ham_files = glob.glob(\"datos/spam-filter/easy_ham/0*\")\n",
    "second_easy_ham_files = glob.glob(\"datos/spam-filter/easy_ham_2/0*\")\n",
    "first_hard_ham_files = glob.glob(\"datos/spam-filter/hard_ham/0*\")\n",
    "second_hard_ham_files = glob.glob(\"datos/spam-filter/hard_ham_2/0*\")\n",
    "first_spam_files = glob.glob(\"datos/spam-filter/spam/0*\")\n",
    "second_spam_files = glob.glob(\"datos/spam-filter/spam_2/0*\")\n",
    "\n",
    "first_easy_ham_messages = preprocess_files(first_easy_ham_files)\n",
    "second_easy_ham_messages = preprocess_files(second_easy_ham_files)\n",
    "first_hard_ham_messages = preprocess_files(first_hard_ham_files)\n",
    "second_hard_ham_messages = preprocess_files(second_hard_ham_files)\n",
    "first_spam_messages = preprocess_files(first_spam_files)\n",
    "second_spam_messages = preprocess_files(second_spam_files)"
   ]
  },
  {
   "cell_type": "markdown",
   "metadata": {},
   "source": [
    "# Detect Spam"
   ]
  },
  {
   "cell_type": "code",
   "execution_count": 9,
   "metadata": {},
   "outputs": [],
   "source": [
    "def get_bag_of_words_dataset(files, is_spam_files):    \n",
    "    from sklearn.feature_extraction.text import CountVectorizer\n",
    "    vectorizer = CountVectorizer()\n",
    "    bag_of_words = vectorizer.fit_transform(files).todense()\n",
    "    dataframe = pd.DataFrame(bag_of_words, columns=vectorizer.get_feature_names())\n",
    "    \n",
    "    if is_spam_files:\n",
    "        dataframe['spam'] = 1\n",
    "    else:\n",
    "        dataframe['spam'] = 0\n",
    "        \n",
    "    return dataframe"
   ]
  },
  {
   "cell_type": "code",
   "execution_count": 10,
   "metadata": {},
   "outputs": [],
   "source": [
    "first_easy_ham_dataset = get_bag_of_words_dataset(first_easy_ham_messages, False)\n",
    "second_easy_ham_dataset = get_bag_of_words_dataset(second_easy_ham_messages, False)\n",
    "first_hard_ham_dataset = get_bag_of_words_dataset(first_hard_ham_messages, False)\n",
    "second_hard_ham_dataset = get_bag_of_words_dataset(second_hard_ham_messages, False)\n",
    "first_spam_dataset = get_bag_of_words_dataset(first_spam_messages, True)\n",
    "second_spam_dataset = get_bag_of_words_dataset(second_spam_messages, True)"
   ]
  },
  {
   "cell_type": "code",
   "execution_count": 13,
   "metadata": {},
   "outputs": [],
   "source": [
    "all_df= [first_easy_ham_dataset, second_easy_ham_dataset, first_hard_ham_dataset,\n",
    "        second_hard_ham_dataset, first_spam_dataset, second_spam_dataset]\n",
    "spam_df = pd.concat(all_df, axis=0, ignore_index=True)"
   ]
  },
  {
   "cell_type": "code",
   "execution_count": 14,
   "metadata": {},
   "outputs": [
    {
     "data": {
      "text/plain": [
       "<matplotlib.axes._subplots.AxesSubplot at 0x22ad4d19908>"
      ]
     },
     "execution_count": 14,
     "metadata": {},
     "output_type": "execute_result"
    }
   ],
   "source": [
    "import seaborn as sns\n",
    "sns.heatmap(spam_df.isna(),yticklabels=False,cbar=False,cmap='viridis')"
   ]
  },
  {
   "cell_type": "code",
   "execution_count": 15,
   "metadata": {},
   "outputs": [],
   "source": [
    "spam_df = spam_df.fillna(value=0)"
   ]
  },
  {
   "cell_type": "code",
   "execution_count": 16,
   "metadata": {},
   "outputs": [
    {
     "data": {
      "text/plain": [
       "StandardScaler(copy=True, with_mean=True, with_std=True)"
      ]
     },
     "execution_count": 16,
     "metadata": {},
     "output_type": "execute_result"
    }
   ],
   "source": [
    "from sklearn.preprocessing import StandardScaler\n",
    "scaler = StandardScaler()\n",
    "scaler.fit(spam_df.drop('spam', axis=1))"
   ]
  },
  {
   "cell_type": "code",
   "execution_count": 17,
   "metadata": {},
   "outputs": [],
   "source": [
    "scaled_features = scaler.transform(spam_df.drop('spam',axis=1))\n",
    "df_feat = pd.DataFrame(scaled_features,columns=spam_df.columns.drop('spam'))"
   ]
  },
  {
   "cell_type": "markdown",
   "metadata": {},
   "source": [
    "# Model Training"
   ]
  },
  {
   "cell_type": "code",
   "execution_count": 34,
   "metadata": {},
   "outputs": [],
   "source": [
    "from sklearn.model_selection import train_test_split\n",
    "from sklearn.linear_model import LogisticRegression\n",
    "from sklearn.metrics import confusion_matrix\n",
    "from sklearn.model_selection import train_test_split\n",
    "from sklearn.metrics import classification_report, confusion_matrix\n",
    "\n",
    "X_train, X_test, y_train, y_test = train_test_split(scaled_features, \n",
    "                                                    spam_df['spam'], test_size=0.30,random_state=101)"
   ]
  },
  {
   "cell_type": "code",
   "execution_count": 35,
   "metadata": {},
   "outputs": [
    {
     "data": {
      "text/plain": [
       "LogisticRegression(C=1.0, class_weight=None, dual=False, fit_intercept=True,\n",
       "          intercept_scaling=1, max_iter=100, multi_class='ovr', n_jobs=1,\n",
       "          penalty='l2', random_state=None, solver='liblinear', tol=0.0001,\n",
       "          verbose=0, warm_start=False)"
      ]
     },
     "execution_count": 35,
     "metadata": {},
     "output_type": "execute_result"
    }
   ],
   "source": [
    "logmodel = LogisticRegression()\n",
    "logmodel.fit(X_train,y_train)"
   ]
  },
  {
   "cell_type": "code",
   "execution_count": 36,
   "metadata": {},
   "outputs": [],
   "source": [
    "predictions = logmodel.predict(X_test)"
   ]
  },
  {
   "cell_type": "code",
   "execution_count": 38,
   "metadata": {},
   "outputs": [
    {
     "name": "stdout",
     "output_type": "stream",
     "text": [
      "             precision    recall  f1-score   support\n",
      "\n",
      "          0       0.99      0.91      0.95      1338\n",
      "          1       0.80      0.97      0.88       513\n",
      "\n",
      "avg / total       0.94      0.93      0.93      1851\n",
      "\n",
      "[[1215  123]\n",
      " [  15  498]]\n"
     ]
    }
   ],
   "source": [
    "from sklearn.metrics import accuracy_score\n",
    "from sklearn.metrics import classification_report, confusion_matrix\n",
    "\n",
    "print(classification_report(y_test,predictions))\n",
    "print(confusion_matrix(y_test, predictions))"
   ]
  },
  {
   "cell_type": "markdown",
   "metadata": {},
   "source": [
    "# Neural Network"
   ]
  },
  {
   "cell_type": "code",
   "execution_count": 39,
   "metadata": {},
   "outputs": [
    {
     "data": {
      "text/plain": [
       "(6170, 12246)"
      ]
     },
     "execution_count": 39,
     "metadata": {},
     "output_type": "execute_result"
    }
   ],
   "source": [
    "df_feat.shape"
   ]
  },
  {
   "cell_type": "code",
   "execution_count": 41,
   "metadata": {},
   "outputs": [],
   "source": [
    "import matplotlib.pyplot as plt\n",
    "%matplotlib inline"
   ]
  },
  {
   "cell_type": "code",
   "execution_count": 42,
   "metadata": {},
   "outputs": [],
   "source": [
    "import keras\n",
    "\n",
    "num_classes = 2\n",
    "\n",
    "y_train = keras.utils.to_categorical(y_train, num_classes)\n",
    "y_test = keras.utils.to_categorical(y_test, num_classes)"
   ]
  },
  {
   "cell_type": "code",
   "execution_count": 43,
   "metadata": {},
   "outputs": [],
   "source": [
    "from keras.layers import Dense \n",
    "from keras.models import Sequential \n",
    "\n",
    "number_of_features = df_feat.shape[1]\n",
    "quantity_of_units = [12, 144, 1024, 1078] "
   ]
  },
  {
   "cell_type": "code",
   "execution_count": 45,
   "metadata": {},
   "outputs": [
    {
     "data": {
      "image/png": "[encoded data removed]",
      "text/plain": [
       "<matplotlib.figure.Figure at 0x22ac6ce4eb8>"
      ]
     },
     "metadata": {},
     "output_type": "display_data"
    },
    {
     "data": {
      "image/png": "[encoded data removed]",
      "text/plain": [
       "<matplotlib.figure.Figure at 0x22ac6cba208>"
      ]
     },
     "metadata": {},
     "output_type": "display_data"
    },
    {
     "data": {
      "image/png": "[encoded data removed]",
      "text/plain": [
       "<matplotlib.figure.Figure at 0x22aa836ff28>"
      ]
     },
     "metadata": {},
     "output_type": "display_data"
    },
    {
     "data": {
      "image/png": "[encoded data removed]",
      "text/plain": [
       "<matplotlib.figure.Figure at 0x22aa86e8940>"
      ]
     },
     "metadata": {},
     "output_type": "display_data"
    }
   ],
   "source": [
    "for units in quantity_of_units:\n",
    "    model=Sequential()\n",
    "    model.add(Dense(units, input_dim=number_of_features, activation='relu'))\n",
    "    keras.layers.core.Dropout(rate=0.4) # Creamos una capa oculta para regularizar y evitar sobre-entrenamientos\n",
    "    model.add(Dense(num_classes,input_dim=number_of_features,activation='softmax')) # Creamos la capa de salida\n",
    "\n",
    "    # Vamos a usar el optimizador adam para compilar el modelo y vamos a usar la precisión como metrica\n",
    "    model.compile(loss='categorical_crossentropy', optimizer=\"adam\", metrics=['accuracy'])\n",
    "\n",
    "    # Entrenamos el modelo y hacemos la validación\n",
    "    history = model.fit(X_train,y_train,epochs=50,verbose=0,batch_size=100,validation_data=(X_test,y_test))\n",
    "    \n",
    "    plt.plot(history.history['acc'])\n",
    "    plt.plot(history.history['val_acc'])\n",
    "    plt.title('Precision del modelo usando ' + str(units) + \" units\")\n",
    "    plt.ylabel('Precision')\n",
    "    plt.xlabel('epoch')\n",
    "    plt.legend(['train', 'validation'], loc='upper left')\n",
    "    plt.show()"
   ]
  }
 ],
 "metadata": {
  "colab": {
   "include_colab_link": true,
   "name": "Copia de Untitled3.ipynb",
   "provenance": [],
   "version": "0.3.2"
  },
  "kernelspec": {
   "display_name": "Python 3",
   "language": "python",
   "name": "python3"
  },
  "language_info": {
   "codemirror_mode": {
    "name": "ipython",
    "version": 3
   },
   "file_extension": ".py",
   "mimetype": "text/x-python",
   "name": "python",
   "nbconvert_exporter": "python",
   "pygments_lexer": "ipython3",
   "version": "3.6.5"
  }
 },
 "nbformat": 4,
 "nbformat_minor": 2
}
